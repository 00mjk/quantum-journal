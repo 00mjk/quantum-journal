{
 "cells": [
  {
   "cell_type": "markdown",
   "metadata": {},
   "source": [
    "# Quantum plots\n",
    "\n",
    "This notebook provides plotting functionality tailored for the use with the `quantumarticle` documentclass."
   ]
  },
  {
   "cell_type": "markdown",
   "metadata": {},
   "source": [
    "## Global routines\n",
    "\n",
    "The parameters for the plots are set in a way that the font sizes in the resulting graphic match those in the surrounding document."
   ]
  },
  {
   "cell_type": "code",
   "execution_count": 11,
   "metadata": {},
   "outputs": [],
   "source": [
    "%matplotlib inline\n",
    "\n",
    "import numpy             as     np\n",
    "import matplotlib        as     mpl\n",
    "import matplotlib.pyplot as     plt\n",
    "from   matplotlib        import rc\n",
    "from   cycler            import cycler\n",
    "\n",
    "_widths = {\n",
    "    # a4paper columnwidth = 426.79135 pt = 5.93 in\n",
    "    # letterpaper columnwidth = 443.57848 pt = 6.16 in\n",
    "    'onecolumn': {\n",
    "        'a4paper' : 5.93,\n",
    "        'letterpaper' : 6.16\n",
    "    },\n",
    "    # a4paper columnwidth = 231.84843 pt = 3.22 in\n",
    "    # letterpaper columnwidth = 240.24199 pt = 3.34 in\n",
    "    'twocolumn': {\n",
    "        'a4paper' : 3.22,\n",
    "        'letterpaper' : 3.34\n",
    "    }\n",
    "}\n",
    "_width         = 1\n",
    "_quantumviolet = '#53257F'\n",
    "_quantumgray   = '#555555'\n",
    "\n",
    "# Sets up the plot with the fitting arguments so that the font sizes of the plot\n",
    "# and the font sizes of the document are well aligned\n",
    "#\n",
    "#     columns : string = ('onecolumn' | 'twocolumn')\n",
    "#         the columns you used to set up your quantumarticle, \n",
    "#         defaults to 'twocolumn'\n",
    "#\n",
    "#     paper : string = ('a4paper' | 'letterpaper')\n",
    "#         the paper size you used to set up your quantumarticle,\n",
    "#         defaults to 'a4paper'\n",
    "#\n",
    "#     fontsize : int = (10 | 11 | 12)\n",
    "#         the fontsize you used to set up your quantumarticle as int\n",
    "\n",
    "def global_setup(columns = 'twocolumn', paper = 'a4paper', fontsize = 10):\n",
    "    mpl.use(\"pgf\")\n",
    "    pgf_with_custom_preamble = {\n",
    "        \"pgf.texsystem\": \"pdflatex\",\n",
    "        \"font.family\": \"sans-serif\", # use serif/main font for text elements\n",
    "        \"text.usetex\": False,    # use inline math for ticks\n",
    "        \"pgf.rcfonts\": True,   # don't setup fonts from rc parameters\n",
    "        \"pgf.preamble\": [\n",
    "             r\"\\usepackage{lmodern}\",         # load additional packages\n",
    "             r\"\\usepackage[utf8x]{inputenc}\",\n",
    "             r\"\\usepackage[T1]{fontenc}\",\n",
    "             ]\n",
    "    }\n",
    "    mpl.rcParams.update(pgf_with_custom_preamble)\n",
    "    \n",
    "    # Seaborn white is a good base style\n",
    "    plt.style.use('seaborn-white')\n",
    "    \n",
    "    # Set up pgf and LaTeX\n",
    "    plt.rcParams['pgf.texsystem'] = 'pdflatex'\n",
    "    plt.rcParams['font.family'] = 'sans-serif'\n",
    "    plt.rcParams['text.usetex'] = False\n",
    "    plt.rcParams['pgf.rcfonts'] = True \n",
    "    plt.rcParams['pgf.preamble'] = [\n",
    "             r\"\\usepackage{lmodern}\",  \n",
    "             r\"\\usepackage[utf8x]{inputenc}\",\n",
    "             r\"\\usepackage[T1]{fontenc}\"\n",
    "             ] \n",
    "    \n",
    "    # Style the plot\n",
    "    plt.rcParams['xtick.direction'] = 'in'\n",
    "    plt.rcParams['ytick.direction'] = 'in'\n",
    "    plt.rcParams['xtick.major.size'] = 4\n",
    "    plt.rcParams['ytick.major.size'] = 4    \n",
    "    plt.rcParams['lines.linewidth'] = 1\n",
    "    plt.rcParams['axes.linewidth'] = .5\n",
    "    plt.rcParams['grid.linewidth'] = .5\n",
    "    plt.rcParams['lines.markersize'] = 3\n",
    "    \n",
    "    plt.rcParams['legend.frameon'] = True\n",
    "    plt.rcParams['legend.framealpha'] = 1.0\n",
    "    plt.rcParams['legend.fancybox'] = False\n",
    "    \n",
    "    plt.rcParams['axes.edgecolor'] = _quantumgray\n",
    "    \n",
    "    # make quantumviolet the first color in the color cycle\n",
    "    mpl.rcParams['axes.prop_cycle'] = cycler(color=['#53257F', '#1f77b4', '#ff7f0e', '#2ca02c', '#d62728', '#8c564b', '#e377c2', '#7f7f7f', '#bcbd22', '#17becf'])\n",
    "    \n",
    "    global _width \n",
    "    _width = _widths[columns][paper]\n",
    "    \n",
    "    # the caption fontsize is 'small' which corresponds to \n",
    "    # one point less than the chosen font size\n",
    "    # 'footnotesize' is two point smaller than the chosen font size\n",
    "    footnotesize = fontsize - 2\n",
    "    small = fontsize - 1\n",
    "    large = fontsize + 2 if fontsize == 10 else fontsize + 1\n",
    "    plt.rcParams['axes.labelsize'] = small\n",
    "    plt.rcParams['axes.titlesize'] = large\n",
    "    plt.rcParams['xtick.labelsize'] = footnotesize\n",
    "    plt.rcParams['ytick.labelsize'] = footnotesize\n",
    "    plt.rcParams['font.size'] = small\n",
    "    \n",
    "\n",
    "# Sets up the plot with the fitting arguments so that the font sizes of the plot\n",
    "# and the font sizes of the document are well aligned\n",
    "#\n",
    "#     aspect_ratio : float\n",
    "#         the aspect ratio (width/height) of your plot\n",
    "#         defaults to the golden ratio\n",
    "#\n",
    "#     width_ratio : float in [0, 1]\n",
    "#         the width of your plot when you insert it into the document, e.g.\n",
    "#         \\includegraphics[width={width_ratio}\\columnwidth]{...}\n",
    "\n",
    "def plot_setup(aspect_ratio = 1/1.62, width_ratio = 1.0):\n",
    "    width = _width * width_ratio\n",
    "    height = width * aspect_ratio\n",
    "           \n",
    "    return plt.figure(figsize=(width,height), dpi=120, facecolor='white')\n",
    "    "
   ]
  },
  {
   "cell_type": "markdown",
   "metadata": {},
   "source": [
    "## Examples\n",
    "\n",
    "When setting up your plots you have to call `global_setup` once and set the global options of your `quantumarticle`"
   ]
  },
  {
   "cell_type": "code",
   "execution_count": 21,
   "metadata": {},
   "outputs": [],
   "source": [
    "global_setup(columns = 'twocolumn', paper = 'a4paper', fontsize = 10)"
   ]
  },
  {
   "cell_type": "markdown",
   "metadata": {},
   "source": [
    "We recommend that you use `tight_layout()` on your plots. Plots should _always_ be saved as __pdf__ files. This will result in the highest quality graphics that can seamlessly integrated in your publications."
   ]
  },
  {
   "cell_type": "markdown",
   "metadata": {},
   "source": [
    "### Lineplot"
   ]
  },
  {
   "cell_type": "code",
   "execution_count": 27,
   "metadata": {
    "scrolled": false
   },
   "outputs": [],
   "source": [
    "x = np.linspace(400, 800, 100)\n",
    "\n",
    "fig = plot_setup()\n",
    "\n",
    "for i in range(9):\n",
    "    y = 1+np.sin(.013*x+.4*i)\n",
    "    plt.plot(x, y)\n",
    "    \n",
    "plt.xlabel('$\\\\lambda$ [nm]')\n",
    "plt.ylabel('$I$ [a.u.]')\n",
    "plt.tight_layout()"
   ]
  },
  {
   "cell_type": "markdown",
   "metadata": {},
   "source": [
    "### Data plot"
   ]
  },
  {
   "cell_type": "code",
   "execution_count": 16,
   "metadata": {},
   "outputs": [],
   "source": [
    "Ds = np.concatenate([np.arange(0.00025,0.0021,0.00025) , np.arange(0.003,0.011, 0.001) , [0.012,0.014]])\n",
    "\n",
    "RT1 = [0.137244, 0.0717596, 0.0599749, 0.0574315, 0.0594974, 0.0621222, 0.0674902, 0.0747963, 0.113289, 0.138015, 0.156837, 0.173086, 0.182361, 0.19209, 0.201404, 0.20936, 0.222541, 0.232029] \n",
    "RT1_std = [0.00630981, 0.0042112, 0.00442357, 0.00430778, 0.00682198, 0.00924101, 0.0120358, 0.0153502, 0.017939, 0.0175116, 0.0177625, 0.0170304, 0.0172532, 0.0178392, 0.0173897, 0.0186951, 0.0197251, 0.019896]\n",
    "RT2 = [0.132671, 0.0638861, 0.0475232, 0.0451378, 0.093839, 0.120379, 0.136352, 0.144436, 0.112958, 0.103575, 0.0943459, 0.0897908, 0.0859248, 0.0840781, 0.0811686, 0.0803692, 0.0758179, 0.0746361]\n",
    "RT2_std = [0.00627376, 0.00379742, 0.0040468, 0.00790347, 0.016209, 0.00974721, 0.0136891, 0.0126009, 0.0108238, 0.00789612, 0.00453309, 0.00640408, 0.00607691, 0.00590591, 0.00551176, 0.00594776, 0.00389493, 0.00461693]\n",
    "\n",
    "fig = plot_setup()\n",
    "R1, = plt.plot(Ds, RT1, marker = 'o')\n",
    "R2, = plt.plot(Ds, RT2, marker = '^')\n",
    "\n",
    "plt.xlabel('$D$')\n",
    "plt.ylabel('$R_T$')\n",
    "\n",
    "plt.legend([R1, R2], ['Layer 1', 'Layer 2'])\n",
    "plt.tight_layout(pad = 0.0)\n",
    "\n",
    "plt.savefig('testreproduction_fig_7.pdf')"
   ]
  },
  {
   "cell_type": "code",
   "execution_count": null,
   "metadata": {},
   "outputs": [],
   "source": []
  },
  {
   "cell_type": "code",
   "execution_count": null,
   "metadata": {},
   "outputs": [],
   "source": [
    "x = np.linspace(0, 5, 50)\n",
    "f = x**2 - x + 0.25\n",
    "F = x**3/3. - x**2/2 + 0.25*x\n",
    "\n",
    "fig = plot_setup()\n",
    "\n",
    "plt.plot(x, f)\n",
    "plt.plot(x, F)\n",
    "\n",
    "plt.xlabel('$x$')\n",
    "plt.tight_layout()"
   ]
  },
  {
   "cell_type": "markdown",
   "metadata": {},
   "source": [
    "## Spectrum"
   ]
  },
  {
   "cell_type": "code",
   "execution_count": 20,
   "metadata": {},
   "outputs": [],
   "source": [
    "# Generate dummy spectral data\n",
    "x = np.linspace(400, 800, 200)\n",
    "y = 30 / (4 + ((x-550)/4)**2) + 30 / (12 + ((x-650)/12)**2) + .001*x + np.random.normal(0,.1, 200)\n",
    "\n",
    "fig = plot_setup(width_ratio = .8)\n",
    "\n",
    "# plot data\n",
    "data = plt.scatter(x,y, color = 'C0', alpha = 0.7, marker = 'x')\n",
    "\n",
    "# plot fits\n",
    "y_fit1 = 30 / (4 + ((x-550)/4)**2)\n",
    "plt.plot(x, y_fit1, color = 'C1', ls = '--')\n",
    "\n",
    "y_fit2 = 30 / (12 + ((x-650)/12)**2)\n",
    "plt.plot(x, y_fit2, color = 'C2', ls = '--')\n",
    "\n",
    "y_fit3 = .001*x\n",
    "plt.plot(x, y_fit3, color = 'C3', ls = '--')\n",
    "\n",
    "y_fit = y_fit1 + y_fit2 + y_fit3\n",
    "fit, = plt.plot(x, y_fit, color = 'C0')\n",
    "\n",
    "plt.xlabel('$\\\\lambda$ [nm]')\n",
    "plt.ylabel('$I$ [arb. un.]')\n",
    "plt.legend([data, fit], ['Data', 'Fit'])\n",
    "plt.tight_layout(pad = 0.0)\n",
    "\n",
    "plt.savefig('spectrum_onecolumn_08.pdf')"
   ]
  },
  {
   "cell_type": "markdown",
   "metadata": {},
   "source": [
    "### Scatter plot"
   ]
  },
  {
   "cell_type": "code",
   "execution_count": 189,
   "metadata": {},
   "outputs": [
    {
     "data": {
      "image/png": "[encoded data removed]",
      "text/plain": [
       "<Figure size 386.4x386.4 with 1 Axes>"
      ]
     },
     "metadata": {},
     "output_type": "display_data"
    }
   ],
   "source": [
    "fig = plot_setup(aspect_ratio = 1.0)\n",
    "\n",
    "for i in range(2):\n",
    "    x = np.random.uniform(0,10,100)\n",
    "    y = np.random.uniform(0,10,100)\n",
    "    plt.scatter(x, y)\n",
    "    \n",
    "plt.xlabel('x')\n",
    "plt.ylabel('y')\n",
    "plt.grid()\n",
    "plt.tight_layout()"
   ]
  },
  {
   "cell_type": "code",
   "execution_count": 37,
   "metadata": {},
   "outputs": [
    {
     "name": "stdout",
     "output_type": "stream",
     "text": [
      "3.22\n"
     ]
    },
    {
     "data": {
      "text/plain": [
       "<matplotlib.contour.QuadContourSet at 0x1504372f2e8>"
      ]
     },
     "execution_count": 37,
     "metadata": {},
     "output_type": "execute_result"
    },
    {
     "data": {
      "image/png": "[encoded data removed]",
      "text/plain": [
       "<Figure size 322x198.765 with 1 Axes>"
      ]
     },
     "metadata": {},
     "output_type": "display_data"
    }
   ],
   "source": [
    "fig = plot_setup()\n",
    "\n",
    "x = np.linspace(0, 10, 100)\n",
    "y = np.linspace(0, 10, 100)\n",
    "X, Y = np.meshgrid(x, y)\n",
    "\n",
    "Z = (X-5)**2 + (Y-3)**2 + .3 * X * Y\n",
    "\n",
    "plt.contour(X, Y, Z, cmap = 'viridis')"
   ]
  },
  {
   "cell_type": "code",
   "execution_count": 70,
   "metadata": {},
   "outputs": [
    {
     "data": {
      "text/plain": [
       "<matplotlib.collections.QuadMesh at 0x150463205c0>"
      ]
     },
     "execution_count": 70,
     "metadata": {},
     "output_type": "execute_result"
    },
    {
     "data": {
      "image/png": "[encoded data removed]",
      "text/plain": [
       "<Figure size 386.4x238.519 with 1 Axes>"
      ]
     },
     "metadata": {},
     "output_type": "display_data"
    }
   ],
   "source": [
    "fig = plot_setup()\n",
    "\n",
    "x = np.linspace(0, 10, 10)\n",
    "y = np.linspace(0, 10, 10)\n",
    "X, Y = np.meshgrid(x, y)\n",
    "\n",
    "Z = (X-5)**2 + (Y-3)**2 + .3 * X * Y\n",
    "\n",
    "plt.pcolormesh(X, Y, Z, cmap = 'viridis')"
   ]
  },
  {
   "cell_type": "code",
   "execution_count": null,
   "metadata": {},
   "outputs": [],
   "source": []
  }
 ],
 "metadata": {
  "kernelspec": {
   "display_name": "Python 3",
   "language": "python",
   "name": "python3"
  },
  "language_info": {
   "codemirror_mode": {
    "name": "ipython",
    "version": 3
   },
   "file_extension": ".py",
   "mimetype": "text/x-python",
   "name": "python",
   "nbconvert_exporter": "python",
   "pygments_lexer": "ipython3",
   "version": "3.7.1"
  }
 },
 "nbformat": 4,
 "nbformat_minor": 2
}
